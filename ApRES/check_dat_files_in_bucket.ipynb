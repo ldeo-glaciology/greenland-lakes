{
 "cells": [
  {
   "cell_type": "markdown",
   "id": "343ceaae-f1f3-4526-a4e6-9a1847d9752f",
   "metadata": {},
   "source": [
    "# Check that we have all the dat files in the bucket\n",
    "\n",
    "We should have all the dat files from the may-sep ApRES deployment in Greenland in the google bucket [here]9ldeo-glaciology/GL_apres_2022).\n",
    "\n",
    "Let's check this using glob."
   ]
  },
  {
   "cell_type": "code",
   "execution_count": 1,
   "id": "c7e4f59d-664d-440e-9f9e-3a5d71a5b4b7",
   "metadata": {},
   "outputs": [],
   "source": [
    "import os\n",
    "import gcsfs\n",
    "import glob"
   ]
  },
  {
   "cell_type": "markdown",
   "id": "eeddaa81-759a-4012-8735-6d2bcdc93efe",
   "metadata": {},
   "source": [
    "List all the files in the SSD."
   ]
  },
  {
   "cell_type": "code",
   "execution_count": 2,
   "id": "9acb9b58-0366-4652-8318-78ac263e79b9",
   "metadata": {},
   "outputs": [],
   "source": [
    "local_dat_files = glob.glob('/Volumes/Seagate 1/ApRES_GLakes_2022/**/*.DAT',\n",
    "                           recursive = True)"
   ]
  },
  {
   "cell_type": "markdown",
   "id": "73999aaa-f4ab-4e96-bd69-e144c9779069",
   "metadata": {},
   "source": [
    "List all the dat files in the google bucket, by first creating a file system object with gcsfs."
   ]
  },
  {
   "cell_type": "code",
   "execution_count": 3,
   "id": "1895533b-f81a-468e-99ba-885cd953fa7b",
   "metadata": {},
   "outputs": [],
   "source": [
    "fs = gcsfs.GCSFileSystem()\n",
    "remote_dat_files = fs.glob(\"gs://ldeo-glaciology/GL_apres_2022/**/*.DAT\", recursive = True)"
   ]
  },
  {
   "cell_type": "markdown",
   "id": "4eedace7-b16d-4156-a5ea-4bfb5b2e13ae",
   "metadata": {},
   "source": [
    "There are the same number of files in each location:"
   ]
  },
  {
   "cell_type": "code",
   "execution_count": 4,
   "id": "69bcf8e5-043f-493b-ba3a-a9be0eba9e76",
   "metadata": {},
   "outputs": [
    {
     "name": "stdout",
     "output_type": "stream",
     "text": [
      "There are 386 files on the ssd in ApRES_GLakes_2022.\n",
      "There are 386 files in the google bucket.\n"
     ]
    }
   ],
   "source": [
    "print(f\"There are {len(local_dat_files)} files on the ssd in ApRES_GLakes_2022.\")\n",
    "print(f\"There are {len(remote_dat_files)} files in the google bucket.\")"
   ]
  },
  {
   "cell_type": "markdown",
   "id": "55d3857a-07ff-47ab-a44a-bd6fcd86ff25",
   "metadata": {},
   "source": [
    "Now check they have the dame names, in the same order:\n",
    "\n",
    "Extract just the filenames of each (os.path.split splits the full path into the path and the filenamen, the second output is the name, hence `os.path.split(x)[1]`)."
   ]
  },
  {
   "cell_type": "code",
   "execution_count": 5,
   "id": "8e1f6233-3295-4072-a3b1-43b1e2dccd10",
   "metadata": {
    "tags": []
   },
   "outputs": [],
   "source": [
    "local_filenames = [os.path.split(x)[1] for x in local_dat_files]"
   ]
  },
  {
   "cell_type": "code",
   "execution_count": 6,
   "id": "0a20c59d-89bc-40ba-9b4d-fc0a5911d865",
   "metadata": {},
   "outputs": [],
   "source": [
    "remote_filenames = [os.path.split(x)[1] for x in remote_dat_files]"
   ]
  },
  {
   "cell_type": "markdown",
   "id": "12a83395-8061-4590-9555-e74714dd7f2e",
   "metadata": {},
   "source": [
    "Check that the two lists of filenames are the same:"
   ]
  },
  {
   "cell_type": "code",
   "execution_count": 7,
   "id": "ec13fd81-75c9-4f0f-8c61-195b21203f46",
   "metadata": {},
   "outputs": [
    {
     "data": {
      "text/plain": [
       "True"
      ]
     },
     "execution_count": 7,
     "metadata": {},
     "output_type": "execute_result"
    }
   ],
   "source": [
    "local_filenames==remote_filenames"
   ]
  }
 ],
 "metadata": {
  "kernelspec": {
   "display_name": "Python 3",
   "language": "python",
   "name": "python3"
  },
  "language_info": {
   "codemirror_mode": {
    "name": "ipython",
    "version": 3
   },
   "file_extension": ".py",
   "mimetype": "text/x-python",
   "name": "python",
   "nbconvert_exporter": "python",
   "pygments_lexer": "ipython3",
   "version": "3.10.6"
  }
 },
 "nbformat": 4,
 "nbformat_minor": 5
}
